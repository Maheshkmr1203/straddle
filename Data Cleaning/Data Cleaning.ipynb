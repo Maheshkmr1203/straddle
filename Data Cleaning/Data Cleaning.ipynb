{
 "cells": [
  {
   "cell_type": "markdown",
   "id": "noted-repeat",
   "metadata": {},
   "source": [
    "## sample_data link: https://t.me/entiretyresearch/37"
   ]
  },
  {
   "cell_type": "code",
   "execution_count": null,
   "id": "cellular-testimony",
   "metadata": {},
   "outputs": [],
   "source": [
    "import pandas as pd\n",
    "import numpy as np\n",
    "from glob import glob\n",
    "import re\n",
    "import datetime"
   ]
  },
  {
   "cell_type": "code",
   "execution_count": null,
   "id": "recovered-fiction",
   "metadata": {},
   "outputs": [],
   "source": [
    "all_files = pd.DataFrame(glob('/Users/entirety/Desktop/nfo_2019-20_raw/*'),columns=['location'])\n",
    "all_files['data_date'] = all_files['location'].apply(lambda x: re.findall(r'[0-9]{8}',x)[0])\n",
    "all_files['data_date'] = all_files['data_date'].apply(lambda x: datetime.datetime.strptime(x,'%d%m%Y').date())\n",
    "all_files.sort_values('data_date',inplace=True)\n",
    "all_files.reset_index(drop=True,inplace=True)"
   ]
  },
  {
   "cell_type": "code",
   "execution_count": null,
   "id": "stock-angola",
   "metadata": {},
   "outputs": [],
   "source": [
    "# pd.set_option('display.max_rows',None)"
   ]
  },
  {
   "cell_type": "code",
   "execution_count": null,
   "id": "innovative-ladder",
   "metadata": {},
   "outputs": [],
   "source": [
    "all_files_tickers = pd.DataFrame(columns=['ticker','data_date'])"
   ]
  },
  {
   "cell_type": "code",
   "execution_count": null,
   "id": "interim-vertex",
   "metadata": {
    "code_folding": []
   },
   "outputs": [],
   "source": [
    "for index, row in all_files.iterrows():\n",
    "    data = pd.read_csv(row['location'])\n",
    "\n",
    "    data.columns = data.columns.str.lower()\n",
    "    data.columns = data.columns.str.strip()\n",
    "    data.columns = data.columns.str.replace(' ','_')\n",
    "\n",
    "    temp_tickers_df = pd.DataFrame(columns=['ticker'])\n",
    "    temp_tickers_df['ticker'] = data['ticker'].drop_duplicates().copy()\n",
    "    temp_tickers_df['data_date'] = row['data_date']\n",
    "\n",
    "    all_files_tickers = pd.concat([all_files_tickers,temp_tickers_df],axis=0)\n",
    "    all_files_tickers = all_files_tickers.drop_duplicates(subset=['ticker'])"
   ]
  },
  {
   "cell_type": "code",
   "execution_count": null,
   "id": "simplified-bishop",
   "metadata": {},
   "outputs": [],
   "source": [
    "all_files_tickers.sort_values('ticker')"
   ]
  },
  {
   "cell_type": "code",
   "execution_count": null,
   "id": "subject-firmware",
   "metadata": {},
   "outputs": [],
   "source": []
  }
 ],
 "metadata": {
  "kernelspec": {
   "display_name": "Python 3",
   "language": "python",
   "name": "python3"
  },
  "language_info": {
   "codemirror_mode": {
    "name": "ipython",
    "version": 3
   },
   "file_extension": ".py",
   "mimetype": "text/x-python",
   "name": "python",
   "nbconvert_exporter": "python",
   "pygments_lexer": "ipython3",
   "version": "3.8.8"
  }
 },
 "nbformat": 4,
 "nbformat_minor": 5
}
